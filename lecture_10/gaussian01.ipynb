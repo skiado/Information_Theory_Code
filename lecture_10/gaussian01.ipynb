{
 "cells": [
  {
   "cell_type": "code",
   "execution_count": null,
   "metadata": {},
   "outputs": [],
   "source": [
    "import numpy as np\n",
    "import matplotlib.pyplot as plt\n",
    "\n",
    "%matplotlib inline\n",
    "\n",
    "num = 1000000\n",
    "#create gaussian noise\n",
    "mu , sigma = 0, 1\n",
    "noise = np.random.normal(mu, sigma, num)\n",
    "#show pdf of gaussian noise\n",
    "count, bins, ignored = plt.hist(noise, 50, density=True)\n",
    "plt.plot(bins, 1/(sigma * np.sqrt(2 * np.pi)) * np.exp( - (bins - mu)**2 / (2 * sigma**2) ),linewidth=2, color='r')\n",
    "plt.show()\n"
   ]
  },
  {
   "cell_type": "code",
   "execution_count": null,
   "metadata": {},
   "outputs": [],
   "source": [
    "#create message\n",
    "x = np.random.choice(2, num)\n",
    "in_x = np.copy(x)\n",
    "in_x[x == 0] = -1\n",
    "#print(x)\n",
    "#print(in_x)\n",
    "#print(noise)"
   ]
  },
  {
   "cell_type": "code",
   "execution_count": null,
   "metadata": {},
   "outputs": [],
   "source": [
    "def channel(in_x,noise):\n",
    "    return in_x + noise"
   ]
  },
  {
   "cell_type": "code",
   "execution_count": null,
   "metadata": {},
   "outputs": [],
   "source": [
    "def decode(y):\n",
    "    f = np.zeros(y.shape)\n",
    "    f[y>0] = 1\n",
    "    return f"
   ]
  },
  {
   "cell_type": "code",
   "execution_count": null,
   "metadata": {},
   "outputs": [],
   "source": [
    "#output\n",
    "y = channel(in_x,noise)\n",
    "#print(y)\n",
    "out = decode(y)\n",
    "#print(out)\n",
    "diff = out - x\n",
    "#print(diff)\n",
    "diff[diff!=0] = 1\n",
    "print('Διαφορές από το αρχικό μήνυμα = ',sum(diff))\n",
    "print('Πιθανότητα λάθους = ',sum(diff)/len(x))"
   ]
  },
  {
   "cell_type": "code",
   "execution_count": null,
   "metadata": {},
   "outputs": [],
   "source": []
  }
 ],
 "metadata": {
  "kernelspec": {
   "display_name": "Python 3",
   "language": "python",
   "name": "python3"
  },
  "language_info": {
   "codemirror_mode": {
    "name": "ipython",
    "version": 3
   },
   "file_extension": ".py",
   "mimetype": "text/x-python",
   "name": "python",
   "nbconvert_exporter": "python",
   "pygments_lexer": "ipython3",
   "version": "3.7.4"
  }
 },
 "nbformat": 4,
 "nbformat_minor": 4
}
