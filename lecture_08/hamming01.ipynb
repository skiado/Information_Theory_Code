{
 "cells": [
  {
   "cell_type": "code",
   "execution_count": null,
   "metadata": {},
   "outputs": [],
   "source": [
    "import numpy as np\n",
    "\n",
    "g = np.array([[1,0,0,0,1,1,0],[0,1,0,0,1,0,1],[0,0,1,0,0,1,1],[0,0,0,1,1,1,1]])\n",
    "print('Generation matrix')\n",
    "print(g)\n",
    "h = np.array([[1,1,0,1,1,0,0],[1,0,1,1,0,1,0],[0,1,1,1,0,0,1]])\n",
    "print('H')\n",
    "print(h)\n",
    "print('test G.H')\n",
    "print(np.dot(h,np.transpose(g))%2)\n",
    "m = np.array([1,0,0,1])\n",
    "print('message = ',m)\n",
    "c = np.dot(m,g)%2\n",
    "print('coded = ',c)\n",
    "print('coded = mesage  + parity')\n",
    "print(c[:4],' + ',c[4:])"
   ]
  },
  {
   "cell_type": "code",
   "execution_count": null,
   "metadata": {},
   "outputs": [],
   "source": [
    "print('received = ',c)\n",
    "r = np.dot(h,c)%2\n",
    "print(r,'no error detected')\n",
    "er_c = np.array([1,0,1,1,1,0,0])\n",
    "print('received with error = ',er_c)\n",
    "er_r = np.dot(h,er_c)%2\n",
    "print(er_r,'error detected')"
   ]
  },
  {
   "cell_type": "code",
   "execution_count": null,
   "metadata": {},
   "outputs": [],
   "source": [
    "for i in range(h.shape[1]):\n",
    "        if np.array_equal(h[:,i] , er_r):\n",
    "            print('error in position: ',i)\n",
    "            er_c[i] = (er_c[i] + 1)%2\n",
    "            break\n",
    "print('corected message = ',er_c)"
   ]
  },
  {
   "cell_type": "code",
   "execution_count": null,
   "metadata": {},
   "outputs": [],
   "source": []
  }
 ],
 "metadata": {
  "kernelspec": {
   "display_name": "Python 3",
   "language": "python",
   "name": "python3"
  },
  "language_info": {
   "codemirror_mode": {
    "name": "ipython",
    "version": 3
   },
   "file_extension": ".py",
   "mimetype": "text/x-python",
   "name": "python",
   "nbconvert_exporter": "python",
   "pygments_lexer": "ipython3",
   "version": "3.7.4"
  }
 },
 "nbformat": 4,
 "nbformat_minor": 2
}
